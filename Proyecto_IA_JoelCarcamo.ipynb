{
 "cells": [
  {
   "cell_type": "code",
   "execution_count": 35,
   "id": "88e39ae2-0667-46da-9085-ea3c2bd67c13",
   "metadata": {},
   "outputs": [],
   "source": [
    "import numpy as np\n",
    "import matplotlib.pyplot as plt\n",
    "from PIL import Image\n",
    "import os"
   ]
  },
  {
   "cell_type": "code",
   "execution_count": 37,
   "id": "beb2c5b0-6a1b-4935-a6b4-d0900c475bb3",
   "metadata": {},
   "outputs": [],
   "source": [
    "def cargar_imagen(direccion_imagen, tamanio=(600, 800)):\n",
    "    img = Image.open(direccion_imagen).convert('L')\n",
    "    img = img.resize(tamanio)\n",
    "    img_array = np.array(img) / 255.0\n",
    "    return img_array.flatten()"
   ]
  },
  {
   "cell_type": "code",
   "execution_count": 39,
   "id": "a0c97fdc-a3c6-46a5-a828-a46640cd5600",
   "metadata": {},
   "outputs": [],
   "source": [
    "def sigmoid(x):\n",
    "    x = np.clip(x, -500, 500)\n",
    "    return 1 / (1 + np.exp(-x))\n",
    "\n",
    "def sigmoid_derivada(x):\n",
    "    return x * (1 - x)"
   ]
  },
  {
   "cell_type": "code",
   "execution_count": 41,
   "id": "386f58f6-b2e8-4d21-ad4e-77b52adbdfc8",
   "metadata": {},
   "outputs": [],
   "source": [
    "# Red neuronal\n",
    "class Red_Neuronal:\n",
    "    def __init__(self, tamanio_entrada, tamanios_ocultos, tamanio_salida):\n",
    "\n",
    "        self.tamanio_entrada = tamanio_entrada\n",
    "        self.tamanios_ocultos = tamanios_ocultos\n",
    "        self.tamanio_salida = tamanio_salida\n",
    "        \n",
    "        self.pesos = []\n",
    "        self.sesgos = []\n",
    "        \n",
    "        tamanio_anterior = tamanio_entrada\n",
    "        for tamanio_oculto in tamanios_ocultos:\n",
    "            self.pesos.append(np.random.randn(tamanio_anterior, tamanio_oculto).astype(np.float32))\n",
    "            self.sesgos.append(np.zeros((1, tamanio_oculto), dtype=np.float32))\n",
    "            tamanio_anterior = tamanio_oculto\n",
    "        \n",
    "        self.pesos.append(np.random.randn(tamanio_anterior, tamanio_salida).astype(np.float32))\n",
    "        self.sesgos.append(np.zeros((1, tamanio_salida), dtype=np.float32))\n",
    "\n",
    "    def propagacion_adelante(self, X):\n",
    "        self.a = [X]\n",
    "        self.z = []\n",
    "\n",
    "        for i in range(len(self.tamanios_ocultos)):\n",
    "            z = np.dot(self.a[-1], self.pesos[i]) + self.sesgos[i]\n",
    "            a = sigmoid(z)\n",
    "            self.z.append(z)\n",
    "            self.a.append(a)\n",
    "        \n",
    "        z_salida = np.dot(self.a[-1], self.pesos[-1]) + self.sesgos[-1]\n",
    "        salida = sigmoid(z_salida)\n",
    "        self.z.append(z_salida)\n",
    "        self.a.append(salida)\n",
    "        \n",
    "        return salida\n",
    "\n",
    "    def propagacion_atras(self, X, y, tasa_aprendizaje=0.01):\n",
    "        error_salida = y - self.a[-1]  # Error en la capa de salida\n",
    "        salida_delta = error_salida * sigmoid_derivada(self.a[-1])\n",
    "        \n",
    "        self.pesos[-1] += self.a[-2].T.dot(salida_delta) * tasa_aprendizaje\n",
    "        self.sesgos[-1] += np.sum(salida_delta, axis=0, keepdims=True) * tasa_aprendizaje\n",
    "        \n",
    "        delta = salida_delta\n",
    "        for i in range(len(self.tamanios_ocultos) - 1, -1, -1):\n",
    "            delta = delta.dot(self.pesos[i + 1].T) * sigmoid_derivada(self.a[i + 1])\n",
    "            self.pesos[i] += self.a[i].T.dot(delta) * tasa_aprendizaje\n",
    "            self.sesgos[i] += np.sum(delta, axis=0, keepdims=True) * tasa_aprendizaje\n",
    "\n",
    "    def entrenamiento(self, X, y, epochs, tasa_aprendizaje):\n",
    "        for epoch in range(epochs):\n",
    "            self.propagacion_adelante(X)\n",
    "            self.propagacion_atras(X, y, tasa_aprendizaje)\n",
    "            if epoch % 200 == 0:\n",
    "                loss = np.mean(np.square(y - self.a[-1]))  # Error cuadrático medio\n",
    "                print(f\"Epoch {epoch}, Loss: {round(loss, 5)}\")\n",
    "\n",
    "    def prediccion(self, X):\n",
    "        return self.propagacion_adelante(X)"
   ]
  },
  {
   "cell_type": "code",
   "execution_count": 43,
   "id": "eba631ce-cc3c-4467-a54b-ce2037e7651a",
   "metadata": {},
   "outputs": [],
   "source": [
    "direccion_imagen_entrenamiento = 'C:/Users/joel_/OneDrive/Documents/JOEL/UNAH/2025/I PAC/IA/Proyecto/img/Entrenamiento.jpeg'\n",
    "#direccion_imagen_prueba = 'C:/Users/joel_/OneDrive/Documents/JOEL/CV/1.jpeg'  # Ruta de la imagen de prueba\n",
    "direccion_imagen_prueba = 'C:/Users/joel_/OneDrive/Documents/JOEL/UNAH/2025/I PAC/IA/Proyecto/img/Prueba_1.jpg'  # Ruta de la imagen de prueba\n",
    "\n",
    "X_train = cargar_imagen(direccion_imagen_entrenamiento)\n",
    "X_test = cargar_imagen(direccion_imagen_prueba)\n",
    "\n",
    "# Etiqueta para la imagen de entrenamiento (1 si la imagen es la que esperamos, 0 si no)\n",
    "y_train = np.array([[1]])"
   ]
  },
  {
   "cell_type": "code",
   "execution_count": 45,
   "id": "c254c8e2-132e-4b9e-8e9c-37dc74326b17",
   "metadata": {},
   "outputs": [],
   "source": [
    "# Creacion de la red neuronal\n",
    "tamanio_entrada = 600 * 800  # 480,000 píxeles\n",
    "tamanios_ocultos = [300, 200, 100, 50, 25]  # Número arbitrario de neuronas en la capa oculta\n",
    "tamanio_salida = 1  # Capa de salida"
   ]
  },
  {
   "cell_type": "code",
   "execution_count": 47,
   "id": "f1f8dc1b-511d-4bc4-830a-f537791c19eb",
   "metadata": {},
   "outputs": [],
   "source": [
    "nn = Red_Neuronal(tamanio_entrada, tamanios_ocultos, tamanio_salida)"
   ]
  },
  {
   "cell_type": "code",
   "execution_count": 49,
   "id": "558f11ee-d267-42e8-9117-cbe6f5bae3d8",
   "metadata": {},
   "outputs": [
    {
     "name": "stdout",
     "output_type": "stream",
     "text": [
      "Epoch 0, Loss: 0.78406\n",
      "Epoch 200, Loss: 0.00961\n",
      "Epoch 400, Loss: 0.00515\n",
      "Epoch 600, Loss: 0.00355\n",
      "Epoch 800, Loss: 0.00273\n"
     ]
    }
   ],
   "source": [
    "# Entrenar la red neuronal\n",
    "nn.entrenamiento(X_train.reshape(1, -1), y_train, epochs=1000, tasa_aprendizaje=0.01)"
   ]
  },
  {
   "cell_type": "code",
   "execution_count": 51,
   "id": "5630b7d6-7881-41b9-82d4-49d0477582b4",
   "metadata": {},
   "outputs": [],
   "source": [
    "# Realizar predicciones\n",
    "prediction_train = nn.prediccion(X_train.reshape(1, -1))\n",
    "prediction_test = nn.prediccion(X_test.reshape(1, -1))"
   ]
  },
  {
   "cell_type": "code",
   "execution_count": 52,
   "id": "758e499c-d505-4871-ae87-9026c7b80ec4",
   "metadata": {},
   "outputs": [
    {
     "name": "stdout",
     "output_type": "stream",
     "text": [
      "Predicción en la imagen de entrenamiento: [[0.95291196]]\n",
      "Predicción en la imagen de prueba: [[0.52096108]]\n",
      "Se reconoce la imagen de prueba.\n"
     ]
    }
   ],
   "source": [
    "print(f\"Predicción en la imagen de entrenamiento: {prediction_train}\")\n",
    "print(f\"Predicción en la imagen de prueba: {prediction_test}\")\n",
    "\n",
    "# Mostrar resultados\n",
    "if prediction_test < 0.5:\n",
    "    print(\"No se reconoce la imagen de prueba.\")\n",
    "else:\n",
    "    print(\"Se reconoce la imagen de prueba.\")"
   ]
  },
  {
   "cell_type": "code",
   "execution_count": null,
   "id": "c080daf8-0ede-480c-b675-5fd471cfc610",
   "metadata": {},
   "outputs": [],
   "source": []
  }
 ],
 "metadata": {
  "kernelspec": {
   "display_name": "Python 3 (ipykernel)",
   "language": "python",
   "name": "python3"
  },
  "language_info": {
   "codemirror_mode": {
    "name": "ipython",
    "version": 3
   },
   "file_extension": ".py",
   "mimetype": "text/x-python",
   "name": "python",
   "nbconvert_exporter": "python",
   "pygments_lexer": "ipython3",
   "version": "3.12.3"
  }
 },
 "nbformat": 4,
 "nbformat_minor": 5
}
